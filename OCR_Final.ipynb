{
  "nbformat": 4,
  "nbformat_minor": 0,
  "metadata": {
    "colab": {
      "name": "OCR_Final.ipynb",
      "provenance": [],
      "authorship_tag": "ABX9TyNrwL1v8HwKOP1SngxrHk/i",
      "include_colab_link": true
    },
    "kernelspec": {
      "name": "python3",
      "display_name": "Python 3"
    },
    "accelerator": "GPU"
  },
  "cells": [
    {
      "cell_type": "markdown",
      "metadata": {
        "id": "view-in-github",
        "colab_type": "text"
      },
      "source": [
        "<a href=\"https://colab.research.google.com/github/pdwivedi1990/CaptchaCracker/blob/master/OCR_Final.ipynb\" target=\"_parent\"><img src=\"https://colab.research.google.com/assets/colab-badge.svg\" alt=\"Open In Colab\"/></a>"
      ]
    },
    {
      "cell_type": "code",
      "metadata": {
        "id": "HxR71Iwlp3iZ",
        "colab_type": "code",
        "colab": {
          "base_uri": "https://localhost:8080/",
          "height": 84
        },
        "outputId": "e6753268-ff52-499d-8c5a-a1759566f226"
      },
      "source": [
        "!curl -LO https://github.com/pdwivedi1990/CaptchaCracker/raw/master/captcha_images_v2.zip\n",
        "!unzip -qq captcha_images_v2.zip"
      ],
      "execution_count": 4,
      "outputs": [
        {
          "output_type": "stream",
          "text": [
            "  % Total    % Received % Xferd  Average Speed   Time    Time     Time  Current\n",
            "                                 Dload  Upload   Total   Spent    Left  Speed\n",
            "100   156  100   156    0     0    217      0 --:--:-- --:--:-- --:--:--   217\n",
            "100 8863k  100 8863k    0     0  5729k      0  0:00:01  0:00:01 --:--:-- 27.0M\n"
          ],
          "name": "stdout"
        }
      ]
    },
    {
      "cell_type": "code",
      "metadata": {
        "colab_type": "code",
        "id": "tEgSOmL8GrWj",
        "colab": {}
      },
      "source": [
        "import os\n",
        "from pathlib import Path\n",
        "\n",
        "#get the image data\n",
        "data_dir = Path(\"./captcha_images_v2/\")\n",
        "\n",
        "img = sorted(list(map(str, list(data_dir.glob(\"*.png\")))))\n",
        "labels = [img.split(os.path.sep)[-1].split(\".png\")[0] for img in img]\n",
        "characters_img = set(char for label in labels for char in label)\n",
        "\n",
        "img_width = 200\n",
        "img_height = 50"
      ],
      "execution_count": 9,
      "outputs": []
    },
    {
      "cell_type": "code",
      "metadata": {
        "id": "vxc3jT7KgKNI",
        "colab_type": "code",
        "colab": {}
      },
      "source": [
        "import numpy as np\n",
        "\n",
        "# Shiffle and Split data into training and validation sets\n",
        "def split_data(img, labels, train_size=0.9, shuffle=True):\n",
        "    size = len(img)\n",
        "    index = np.arange(size)\n",
        "    if shuffle:\n",
        "        np.random.shuffle(index)\n",
        "    train_data = int(size * train_size)\n",
        "    x_train, y_train = img[index[:train_data]], labels[index[:train_data]]\n",
        "    x_valid, y_valid = img[index[train_data:]], labels[index[train_data:]]\n",
        "    return x_train, x_valid, y_train, y_valid\n",
        "\n",
        "x_train, x_valid, y_train, y_valid = split_data(np.array(img), np.array(labels))"
      ],
      "execution_count": 10,
      "outputs": []
    },
    {
      "cell_type": "code",
      "metadata": {
        "id": "rTddrWqsjh20",
        "colab_type": "code",
        "colab": {}
      },
      "source": [
        "import tensorflow as tf\n",
        "from tensorflow.keras import layers\n",
        "\n",
        "char_to_num = layers.experimental.preprocessing.StringLookup(\n",
        "    vocabulary=list(characters_img), num_oov_indices=0, mask_token=None\n",
        ")\n",
        "\n",
        "num_to_char = layers.experimental.preprocessing.StringLookup(\n",
        "    vocabulary=char_to_num.get_vocabulary(), mask_token=None, invert=True\n",
        ")\n",
        "#Preprocessing step: Read, Resize and rescale the image, map the characters in labels to numbers\n",
        "def encode_single_sample(img_path, label):\n",
        "    img = tf.io.read_file(img_path)\n",
        "    img = tf.io.decode_png(img, channels=1)\n",
        "    img = tf.image.convert_image_dtype(img, tf.float32)\n",
        "    img = tf.image.resize(img, [img_height, img_width])\n",
        "    img = tf.transpose(img, perm=[1, 0, 2])\n",
        "    label = char_to_num(tf.strings.unicode_split(label, input_encoding=\"UTF-8\"))\n",
        "    return {\"image\": img, \"label\": label}\n",
        "\n",
        "batch_size = 16\n",
        "train_dataset = tf.data.Dataset.from_tensor_slices((x_train, y_train))\n",
        "train_dataset = (\n",
        "    train_dataset.map(\n",
        "        encode_single_sample, num_parallel_calls=tf.data.experimental.AUTOTUNE\n",
        "    )\n",
        "    .batch(batch_size)\n",
        "    .prefetch(buffer_size=tf.data.experimental.AUTOTUNE)\n",
        ")\n"
      ],
      "execution_count": 18,
      "outputs": []
    },
    {
      "cell_type": "code",
      "metadata": {
        "id": "ll8EMGnVxmlo",
        "colab_type": "code",
        "colab": {
          "base_uri": "https://localhost:8080/",
          "height": 235
        },
        "outputId": "2156b10d-0ef4-4cb9-e105-856156eb395f"
      },
      "source": [
        "#Data Visualization\n",
        "import matplotlib.pyplot as plt\n",
        "_, ax = plt.subplots(4, 4)\n",
        "for batch in train_dataset.take(1):\n",
        "    images = batch[\"image\"]\n",
        "    labels = batch[\"label\"]\n",
        "    for i in range(16):\n",
        "        img = (images[i] * 255).numpy().astype(\"uint8\")\n",
        "        label = tf.strings.reduce_join(num_to_char(labels[i])).numpy().decode(\"utf-8\")\n",
        "        ax[i // 4, i % 4].imshow(img[:, :, 0].T, cmap=\"gray\")\n",
        "        ax[i // 4, i % 4].set_title(label)\n",
        "        ax[i // 4, i % 4].axis(\"off\")\n",
        "plt.show()"
      ],
      "execution_count": 19,
      "outputs": [
        {
          "output_type": "display_data",
          "data": {
            "image/png": "[encoded data removed]",
            "text/plain": [
              "<Figure size 432x288 with 16 Axes>"
            ]
          },
          "metadata": {
            "tags": [],
            "needs_background": "light"
          }
        }
      ]
    },
    {
      "cell_type": "code",
      "metadata": {
        "id": "HaMpsrnfylfG",
        "colab_type": "code",
        "colab": {
          "base_uri": "https://localhost:8080/",
          "height": 605
        },
        "outputId": "4a5ff17a-c6a3-4d11-d51e-cde4fd06c9d4"
      },
      "source": [
        "from tensorflow import keras\n",
        "class CTCLayer(layers.Layer):\n",
        "    def __init__(self, name=None):\n",
        "        super().__init__(name=name)\n",
        "        self.loss_fn = keras.backend.ctc_batch_cost\n",
        "    def call(self, y_true, y_pred):\n",
        "        batch_len = tf.cast(tf.shape(y_true)[0], dtype=\"int64\")\n",
        "        input_len = tf.cast(tf.shape(y_pred)[1], dtype=\"int64\")\n",
        "        label_len = tf.cast(tf.shape(y_true)[1], dtype=\"int64\")\n",
        "\n",
        "        input_len = input_len * tf.ones(shape=(batch_len, 1), dtype=\"int64\")\n",
        "        label_len = label_len * tf.ones(shape=(batch_len, 1), dtype=\"int64\")\n",
        "\n",
        "        loss = self.loss_fn(y_true, y_pred, input_len, label_len)\n",
        "        self.add_loss(loss)\n",
        "        return y_pred\n",
        "        \n",
        "def build_model():\n",
        "    # Inputs to the model\n",
        "    input_img = layers.Input( shape=(img_width, img_height, 1), dtype=\"float32\")\n",
        "    labels = layers.Input(shape=(None,), dtype=\"float32\")\n",
        "\n",
        "    # Convolutional layers, keeping Relu as activation function, stride of 3*3\n",
        "    x = layers.Conv2D(32, (3, 3), activation=\"relu\", kernel_initializer=\"he_normal\", padding=\"same\")(input_img)\n",
        "    x = layers.MaxPooling2D((2, 2))(x)\n",
        "\n",
        "    x = layers.Conv2D(64, (3, 3), activation=\"relu\", kernel_initializer=\"he_normal\", padding=\"same\")(x)\n",
        "    x = layers.MaxPooling2D((2, 2))(x)\n",
        "\n",
        "    new_shape = ((img_width // 4), (img_height // 4) * 64)\n",
        "    x = layers.Reshape(target_shape=new_shape)(x)\n",
        "    x = layers.Dense(64, activation=\"relu\")(x)\n",
        "    x = layers.Dropout(0.2)(x)\n",
        "\n",
        "    # RNNs\n",
        "    x = layers.Bidirectional(layers.LSTM(128, return_sequences=True, dropout=0.25))(x)\n",
        "    x = layers.Bidirectional(layers.LSTM(64, return_sequences=True, dropout=0.25))(x)\n",
        "\n",
        "    # Output layer\n",
        "    x = layers.Dense(len(characters_img) + 1, activation=\"softmax\")(x)\n",
        "    output = CTCLayer()(labels, x)\n",
        "    model = keras.models.Model(inputs=[input_img, labels], outputs=output)\n",
        "    \n",
        "    opt = keras.optimizers.Adam()\n",
        "    model.compile(optimizer=opt)\n",
        "    \n",
        "    return model\n",
        "model = build_model()\n",
        "model.summary()"
      ],
      "execution_count": 20,
      "outputs": [
        {
          "output_type": "stream",
          "text": [
            "Model: \"functional_1\"\n",
            "__________________________________________________________________________________________________\n",
            "Layer (type)                    Output Shape         Param #     Connected to                     \n",
            "==================================================================================================\n",
            "input_1 (InputLayer)            [(None, 200, 50, 1)] 0                                            \n",
            "__________________________________________________________________________________________________\n",
            "conv2d (Conv2D)                 (None, 200, 50, 32)  320         input_1[0][0]                    \n",
            "__________________________________________________________________________________________________\n",
            "max_pooling2d (MaxPooling2D)    (None, 100, 25, 32)  0           conv2d[0][0]                     \n",
            "__________________________________________________________________________________________________\n",
            "conv2d_1 (Conv2D)               (None, 100, 25, 64)  18496       max_pooling2d[0][0]              \n",
            "__________________________________________________________________________________________________\n",
            "max_pooling2d_1 (MaxPooling2D)  (None, 50, 12, 64)   0           conv2d_1[0][0]                   \n",
            "__________________________________________________________________________________________________\n",
            "reshape (Reshape)               (None, 50, 768)      0           max_pooling2d_1[0][0]            \n",
            "__________________________________________________________________________________________________\n",
            "dense (Dense)                   (None, 50, 64)       49216       reshape[0][0]                    \n",
            "__________________________________________________________________________________________________\n",
            "dropout (Dropout)               (None, 50, 64)       0           dense[0][0]                      \n",
            "__________________________________________________________________________________________________\n",
            "bidirectional (Bidirectional)   (None, 50, 256)      197632      dropout[0][0]                    \n",
            "__________________________________________________________________________________________________\n",
            "bidirectional_1 (Bidirectional) (None, 50, 128)      164352      bidirectional[0][0]              \n",
            "__________________________________________________________________________________________________\n",
            "input_2 (InputLayer)            [(None, None)]       0                                            \n",
            "__________________________________________________________________________________________________\n",
            "dense_1 (Dense)                 (None, 50, 20)       2580        bidirectional_1[0][0]            \n",
            "__________________________________________________________________________________________________\n",
            "ctc_layer (CTCLayer)            (None, 50, 20)       0           input_2[0][0]                    \n",
            "                                                                 dense_1[0][0]                    \n",
            "==================================================================================================\n",
            "Total params: 432,596\n",
            "Trainable params: 432,596\n",
            "Non-trainable params: 0\n",
            "__________________________________________________________________________________________________\n"
          ],
          "name": "stdout"
        }
      ]
    },
    {
      "cell_type": "code",
      "metadata": {
        "id": "dT2YY3Nm8uVE",
        "colab_type": "code",
        "colab": {}
      },
      "source": [
        "validation_data = tf.data.Dataset.from_tensor_slices((x_valid, y_valid))\n",
        "validation_data = (\n",
        "    validation_data.map(\n",
        "        encode_single_sample, num_parallel_calls=tf.data.experimental.AUTOTUNE\n",
        "    )\n",
        "    .batch(batch_size)\n",
        "    .prefetch(buffer_size=tf.data.experimental.AUTOTUNE)\n",
        ")"
      ],
      "execution_count": 22,
      "outputs": []
    },
    {
      "cell_type": "code",
      "metadata": {
        "id": "wCW1DvP75vxe",
        "colab_type": "code",
        "colab": {
          "base_uri": "https://localhost:8080/",
          "height": 1000
        },
        "outputId": "4b21a4e4-daf1-4079-dfaa-45d805017c98"
      },
      "source": [
        "history = model.fit(train_dataset, validation_data=validation_data, epochs=50 )"
      ],
      "execution_count": 23,
      "outputs": [
        {
          "output_type": "stream",
          "text": [
            "Epoch 1/50\n",
            "59/59 [==============================] - 3s 57ms/step - loss: 0.0681 - val_loss: 0.0064\n",
            "Epoch 2/50\n",
            "59/59 [==============================] - 2s 34ms/step - loss: 0.0545 - val_loss: 0.0055\n",
            "Epoch 3/50\n",
            "59/59 [==============================] - 2s 33ms/step - loss: 0.0712 - val_loss: 0.0467\n",
            "Epoch 4/50\n",
            "59/59 [==============================] - 2s 33ms/step - loss: 0.1223 - val_loss: 0.0076\n",
            "Epoch 5/50\n",
            "59/59 [==============================] - 2s 33ms/step - loss: 0.0792 - val_loss: 0.0048\n",
            "Epoch 6/50\n",
            "59/59 [==============================] - 2s 33ms/step - loss: 0.0392 - val_loss: 0.0046\n",
            "Epoch 7/50\n",
            "59/59 [==============================] - 2s 33ms/step - loss: 0.0554 - val_loss: 0.0192\n",
            "Epoch 8/50\n",
            "59/59 [==============================] - 2s 33ms/step - loss: 0.1058 - val_loss: 0.0088\n",
            "Epoch 9/50\n",
            "59/59 [==============================] - 2s 33ms/step - loss: 0.1019 - val_loss: 0.0063\n",
            "Epoch 10/50\n",
            "59/59 [==============================] - 2s 33ms/step - loss: 0.0802 - val_loss: 0.0748\n",
            "Epoch 11/50\n",
            "59/59 [==============================] - 2s 33ms/step - loss: 0.0598 - val_loss: 0.0082\n",
            "Epoch 12/50\n",
            "59/59 [==============================] - 2s 33ms/step - loss: 0.0600 - val_loss: 0.0046\n",
            "Epoch 13/50\n",
            "59/59 [==============================] - 2s 33ms/step - loss: 0.0540 - val_loss: 0.0042\n",
            "Epoch 14/50\n",
            "59/59 [==============================] - 2s 33ms/step - loss: 0.0351 - val_loss: 0.0036\n",
            "Epoch 15/50\n",
            "59/59 [==============================] - 2s 33ms/step - loss: 0.0571 - val_loss: 0.0134\n",
            "Epoch 16/50\n",
            "59/59 [==============================] - 2s 33ms/step - loss: 0.0788 - val_loss: 0.0274\n",
            "Epoch 17/50\n",
            "59/59 [==============================] - 2s 35ms/step - loss: 0.0891 - val_loss: 0.0049\n",
            "Epoch 18/50\n",
            "59/59 [==============================] - 2s 34ms/step - loss: 0.0647 - val_loss: 0.0045\n",
            "Epoch 19/50\n",
            "59/59 [==============================] - 2s 34ms/step - loss: 0.0291 - val_loss: 0.0027\n",
            "Epoch 20/50\n",
            "59/59 [==============================] - 2s 34ms/step - loss: 0.0627 - val_loss: 0.0032\n",
            "Epoch 21/50\n",
            "59/59 [==============================] - 2s 34ms/step - loss: 0.1277 - val_loss: 0.0167\n",
            "Epoch 22/50\n",
            "59/59 [==============================] - 2s 34ms/step - loss: 0.0888 - val_loss: 0.0045\n",
            "Epoch 23/50\n",
            "59/59 [==============================] - 2s 33ms/step - loss: 0.0288 - val_loss: 0.0032\n",
            "Epoch 24/50\n",
            "59/59 [==============================] - 2s 33ms/step - loss: 0.0250 - val_loss: 0.0022\n",
            "Epoch 25/50\n",
            "59/59 [==============================] - 2s 34ms/step - loss: 0.0156 - val_loss: 0.0019\n",
            "Epoch 26/50\n",
            "59/59 [==============================] - 2s 33ms/step - loss: 0.0289 - val_loss: 0.0021\n",
            "Epoch 27/50\n",
            "59/59 [==============================] - 2s 33ms/step - loss: 0.0446 - val_loss: 0.1294\n",
            "Epoch 28/50\n",
            "59/59 [==============================] - 2s 33ms/step - loss: 0.0941 - val_loss: 0.0492\n",
            "Epoch 29/50\n",
            "59/59 [==============================] - 2s 33ms/step - loss: 0.1360 - val_loss: 0.0210\n",
            "Epoch 30/50\n",
            "59/59 [==============================] - 2s 33ms/step - loss: 0.0535 - val_loss: 0.1450\n",
            "Epoch 31/50\n",
            "59/59 [==============================] - 2s 33ms/step - loss: 0.0678 - val_loss: 0.0048\n",
            "Epoch 32/50\n",
            "59/59 [==============================] - 2s 32ms/step - loss: 0.0520 - val_loss: 0.0174\n",
            "Epoch 33/50\n",
            "59/59 [==============================] - 2s 33ms/step - loss: 0.0350 - val_loss: 0.0022\n",
            "Epoch 34/50\n",
            "59/59 [==============================] - 2s 33ms/step - loss: 0.0156 - val_loss: 0.0015\n",
            "Epoch 35/50\n",
            "59/59 [==============================] - 2s 33ms/step - loss: 0.0150 - val_loss: 0.0019\n",
            "Epoch 36/50\n",
            "59/59 [==============================] - 2s 33ms/step - loss: 0.0203 - val_loss: 0.0441\n",
            "Epoch 37/50\n",
            "59/59 [==============================] - 2s 33ms/step - loss: 0.0111 - val_loss: 0.0015\n",
            "Epoch 38/50\n",
            "59/59 [==============================] - 2s 33ms/step - loss: 0.0098 - val_loss: 0.0013\n",
            "Epoch 39/50\n",
            "59/59 [==============================] - 2s 33ms/step - loss: 0.0092 - val_loss: 0.0048\n",
            "Epoch 40/50\n",
            "59/59 [==============================] - 2s 33ms/step - loss: 0.0500 - val_loss: 0.0085\n",
            "Epoch 41/50\n",
            "59/59 [==============================] - 2s 33ms/step - loss: 0.0644 - val_loss: 0.0033\n",
            "Epoch 42/50\n",
            "59/59 [==============================] - 2s 33ms/step - loss: 0.0497 - val_loss: 0.0075\n",
            "Epoch 43/50\n",
            "59/59 [==============================] - 2s 32ms/step - loss: 0.0536 - val_loss: 0.0022\n",
            "Epoch 44/50\n",
            "59/59 [==============================] - 2s 34ms/step - loss: 0.0738 - val_loss: 0.0033\n",
            "Epoch 45/50\n",
            "59/59 [==============================] - 2s 33ms/step - loss: 0.0403 - val_loss: 0.0022\n",
            "Epoch 46/50\n",
            "59/59 [==============================] - 2s 33ms/step - loss: 0.0107 - val_loss: 0.0024\n",
            "Epoch 47/50\n",
            "59/59 [==============================] - 2s 32ms/step - loss: 0.0098 - val_loss: 0.0012\n",
            "Epoch 48/50\n",
            "59/59 [==============================] - 2s 33ms/step - loss: 0.0199 - val_loss: 0.0012\n",
            "Epoch 49/50\n",
            "59/59 [==============================] - 2s 34ms/step - loss: 0.0175 - val_loss: 0.0014\n",
            "Epoch 50/50\n",
            "59/59 [==============================] - 2s 33ms/step - loss: 0.0222 - val_loss: 0.0012\n"
          ],
          "name": "stdout"
        }
      ]
    }
  ]
}